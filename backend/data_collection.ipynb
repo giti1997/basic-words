{
 "cells": [
  {
   "cell_type": "code",
   "execution_count": 1,
   "metadata": {},
   "outputs": [],
   "source": [
    "from typing import List\n",
    "import pandas as pd\n",
    "import json as js\n",
    "import os\n",
    "os.environ[\"GOOGLE_APPLICATION_CREDENTIALS\"] = \"../genuine-essence-364222-54dfa19feae0.json\"\n",
    "\"\"\"imports for translator api\"\"\"\n",
    "import six\n",
    "from google.cloud import translate_v2 as translate\n"
   ]
  },
  {
   "cell_type": "code",
   "execution_count": 2,
   "metadata": {},
   "outputs": [],
   "source": [
    "def get_translation(language_id: str, text: str) -> str:\n",
    "    \"\"\"Translates text into the target language using google api\"\"\"\n",
    "\n",
    "    translate_client = translate.Client()\n",
    "\n",
    "    if isinstance(text, six.binary_type):\n",
    "        text = text.decode(\"utf-8\")\n",
    "\n",
    "    result = translate_client.translate(text, target_language=language_id)\n",
    "    return result[\"translatedText\"]"
   ]
  },
  {
   "cell_type": "code",
   "execution_count": 3,
   "metadata": {},
   "outputs": [],
   "source": [
    "def get_audio(language_id: str,text: str):\n",
    "    \"\"\"Synthesizes speech from the input string of text.\"\"\"\n",
    "    from google.cloud import texttospeech\n",
    "\n",
    "    client = texttospeech.TextToSpeechClient()\n",
    "\n",
    "    input_text = texttospeech.SynthesisInput(text=text)\n",
    "\n",
    "    # Note: the voice can also be specified by name.\n",
    "    # Names of voices can be retrieved with client.list_voices().\n",
    "    voice = texttospeech.VoiceSelectionParams(\n",
    "        language_code=language_id\n",
    "    #     name=\"en-US-Standard-C\",\n",
    "    #     ssml_gender=texttospeech.SsmlVoiceGender.FEMALE,\n",
    "    )\n",
    "\n",
    "    # we might be able to get another kind of response by changing this\n",
    "    audio_config = texttospeech.AudioConfig(\n",
    "        audio_encoding=texttospeech.AudioEncoding.MP3\n",
    "    )\n",
    "\n",
    "    response = client.synthesize_speech(\n",
    "        request={\"input\": input_text, \"voice\": voice, \"audio_config\": audio_config}\n",
    "    )\n",
    "\n",
    "    return response.audio_content"
   ]
  },
  {
   "cell_type": "code",
   "execution_count": 6,
   "metadata": {},
   "outputs": [],
   "source": [
    "def get_list_of_words() -> List[str]:\n",
    "    \"\"\"Get the list of words that we will use\"\"\"\n",
    "    f = open(\"../data/words.txt\",\"r\")\n",
    "    words = []\n",
    "    for line in f.readlines():\n",
    "        words.append(line.rstrip('\\n'))\n",
    "    return words"
   ]
  },
  {
   "cell_type": "code",
   "execution_count": 7,
   "metadata": {},
   "outputs": [],
   "source": [
    "def get_list_of_languages() -> dict:\n",
    "    \"\"\"Get the list of languages\"\"\"\n",
    "    f = open('../data/lan-dict.json')\n",
    "    data = js.load(f)\n",
    "    f.close()\n",
    "    return data"
   ]
  },
  {
   "cell_type": "code",
   "execution_count": 8,
   "metadata": {},
   "outputs": [],
   "source": [
    "def get_list_of_language_ids() -> List[str]:\n",
    "    \"\"\"Get the list of ids of languages\"\"\"\n",
    "    ids = []\n",
    "    f = open('../data/lan-dict.json')\n",
    "    data = js.load(f)\n",
    "    f.close()\n",
    "    return data.values()\n"
   ]
  },
  {
   "cell_type": "code",
   "execution_count": 9,
   "metadata": {},
   "outputs": [],
   "source": [
    "def get_table(type: str) -> pd.DataFrame:\n",
    "    langs = get_list_of_languages()\n",
    "    words = get_list_of_words()\n",
    "    f = {}\n",
    "    if type == 'text':\n",
    "        for (lang,id) in langs.items():\n",
    "            f[lang] = []\n",
    "            for word in words:\n",
    "                f[lang].append(get_translation(id,word))        \n",
    "    elif type == 'audio':\n",
    "        print(\"bye\")\n",
    "    else:\n",
    "        raise ValueError()\n",
    "    return pd.DataFrame(f)\n"
   ]
  },
  {
   "cell_type": "code",
   "execution_count": 8,
   "metadata": {},
   "outputs": [],
   "source": [
    "d = get_table(\"text\")\n",
    "d.to_csv('../data/text.csv',index=False)\n"
   ]
  },
  {
   "cell_type": "code",
   "execution_count": null,
   "metadata": {},
   "outputs": [],
   "source": []
  }
 ],
 "metadata": {
  "kernelspec": {
   "display_name": "Python 3",
   "language": "python",
   "name": "python3"
  },
  "language_info": {
   "codemirror_mode": {
    "name": "ipython",
    "version": 3
   },
   "file_extension": ".py",
   "mimetype": "text/x-python",
   "name": "python",
   "nbconvert_exporter": "python",
   "pygments_lexer": "ipython3",
   "version": "3.10.6"
  },
  "orig_nbformat": 4,
  "vscode": {
   "interpreter": {
    "hash": "31f2aee4e71d21fbe5cf8b01ff0e069b9275f58929596ceb00d14d90e3e16cd6"
   }
  }
 },
 "nbformat": 4,
 "nbformat_minor": 2
}
