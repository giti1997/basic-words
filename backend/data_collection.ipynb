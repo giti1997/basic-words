{
 "cells": [
  {
   "cell_type": "code",
   "execution_count": 28,
   "metadata": {},
   "outputs": [],
   "source": [
    "from typing import List\n",
    "import pandas as pd\n",
    "import json as js\n",
    "import os\n",
    "os.environ[\"GOOGLE_APPLICATION_CREDENTIALS\"] = \"../genuine-essence-364222-54dfa19feae0.json\"\n",
    "os.environ[\"GOOGLE_APPLICATION_CREDENTIALS\"] = \"../genuine-essence-364222-e5a8b39d8c83.json\"\n",
    "\"\"\"imports for translator api\"\"\"\n",
    "import six\n",
    "from google.cloud import translate_v2 as translate\n",
    "\n",
    "\"\"\"imports for BigQuery\"\"\"\n",
    "from google.cloud import bigquery\n",
    "from google.cloud.exceptions import NotFound\n",
    "\n",
    "\"\"\"imports for fast api\"\"\"\n",
    "from fastapi import FastAPI\n"
   ]
  },
  {
   "cell_type": "code",
   "execution_count": 29,
   "metadata": {},
   "outputs": [],
   "source": [
    "def get_translation(language_id: str, text: str) -> str:\n",
    "    \"\"\"Translates text into the target language using google api\"\"\"\n",
    "\n",
    "    translate_client = translate.Client()\n",
    "\n",
    "    if isinstance(text, six.binary_type):\n",
    "        text = text.decode(\"utf-8\")\n",
    "\n",
    "    result = translate_client.translate(text, target_language=language_id)\n",
    "    return result[\"translatedText\"]"
   ]
  },
  {
   "cell_type": "code",
   "execution_count": 30,
   "metadata": {},
   "outputs": [],
   "source": [
    "def get_audio(language_id: str,text: str):\n",
    "    \"\"\"Synthesizes speech from the input string of text.\"\"\"\n",
    "    from google.cloud import texttospeech\n",
    "\n",
    "    client = texttospeech.TextToSpeechClient()\n",
    "\n",
    "    input_text = texttospeech.SynthesisInput(text=text)\n",
    "\n",
    "    # Note: the voice can also be specified by name.\n",
    "    # Names of voices can be retrieved with client.list_voices().\n",
    "    voice = texttospeech.VoiceSelectionParams(\n",
    "        language_code=language_id\n",
    "    #     name=\"en-US-Standard-C\",\n",
    "    #     ssml_gender=texttospeech.SsmlVoiceGender.FEMALE,\n",
    "    )\n",
    "\n",
    "    # we might be able to get another kind of response by changing this\n",
    "    audio_config = texttospeech.AudioConfig(\n",
    "        audio_encoding=texttospeech.AudioEncoding.MP3\n",
    "    )\n",
    "\n",
    "    response = client.synthesize_speech(\n",
    "        request={\"input\": input_text, \"voice\": voice, \"audio_config\": audio_config}\n",
    "    )\n",
    "\n",
    "    return response.audio_content"
   ]
  },
  {
   "cell_type": "code",
   "execution_count": 31,
   "metadata": {},
   "outputs": [],
   "source": [
    "def get_list_of_words(input_file: str) -> List[str]:\n",
    "    \"\"\"Get the list of words that we will use\"\"\"\n",
    "    f = open(input_file,\"r\")\n",
    "    words = []\n",
    "    for line in f.readlines():\n",
    "        words.append(line.rstrip('\\n'))\n",
    "    return words"
   ]
  },
  {
   "cell_type": "code",
   "execution_count": 32,
   "metadata": {},
   "outputs": [],
   "source": [
    "def get_list_of_languages() -> dict:\n",
    "    \"\"\"Get the list of languages\"\"\"\n",
    "    f = open('../data/lan-dict.json')\n",
    "    data = js.load(f)\n",
    "    f.close()\n",
    "    return data"
   ]
  },
  {
   "cell_type": "code",
   "execution_count": 33,
   "metadata": {},
   "outputs": [],
   "source": [
    "def get_list_of_language_ids() -> List[str]:\n",
    "    \"\"\"Get the list of ids of languages\"\"\"\n",
    "    ids = []\n",
    "    f = open('../data/lan-dict.json')\n",
    "    data = js.load(f)\n",
    "    f.close()\n",
    "    return data.values()\n"
   ]
  },
  {
   "cell_type": "code",
   "execution_count": 34,
   "metadata": {},
   "outputs": [],
   "source": [
    "def get_table(type: str, input_file: str) -> pd.DataFrame:\n",
    "    \"\"\"call google api to make the data of translations (type is either text or audio)\"\"\"\n",
    "    langs = get_list_of_languages()\n",
    "    words = get_list_of_words(input_file)\n",
    "    f = {}\n",
    "    if type == 'text':\n",
    "        for (lang,id) in langs.items():\n",
    "            f[lang] = []\n",
    "            for word in words:\n",
    "                f[lang].append(get_translation(id,word))        \n",
    "    elif type == 'audio':\n",
    "        print(\"bye\")\n",
    "    else:\n",
    "        raise ValueError()\n",
    "    return pd.DataFrame(f)\n"
   ]
  },
  {
   "cell_type": "code",
   "execution_count": 35,
   "metadata": {},
   "outputs": [],
   "source": [
    "def add_table(input_file: str, output_file: str):\n",
    "    \"\"\"make the data table into a csv file\"\"\"\n",
    "    d = get_table(\"text\", input_file)\n",
    "    d.to_csv(output_file,index=False)\n",
    "#    d = get_table(\"audio\")\n",
    "#    d.to_csv('../data/audio.csv',index=False)\n",
    "# add_table('../data/essentials.txt','../data/essentials.csv')"
   ]
  },
  {
   "cell_type": "code",
   "execution_count": 25,
   "metadata": {},
   "outputs": [
    {
     "name": "stdout",
     "output_type": "stream",
     "text": [
      "Dataset genuine-essence-364222.basic_words already exists\n"
     ]
    }
   ],
   "source": [
    "def make_dataset():\n",
    "    \"\"\"make data set with BigQuery for the first time if it doesn't exist already\"\"\"\n",
    "\n",
    "   # Construct a BigQuery client object.\n",
    "    client = bigquery.Client()\n",
    "\n",
    "    # TODO(developer): Set dataset_id to the ID of the dataset to create.\n",
    "    dataset_id = \"genuine-essence-364222.basic_words\"\n",
    "\n",
    "    # Construct a full Dataset object to send to the API.\n",
    "    dataset = bigquery.Dataset(dataset_id)\n",
    "\n",
    "    # TODO(developer): Specify the geographic location where the dataset should reside.\n",
    "    dataset.location = \"EU\"\n",
    "\n",
    "    # Send the dataset to the API for creation, with an explicit timeout.\n",
    "    # Raises google.api_core.exceptions.Conflict if the Dataset already\n",
    "    # exists within the project.\n",
    "\n",
    "    try:\n",
    "        client.get_dataset(dataset_id)  # Make an API request.\n",
    "        print(\"Dataset {} already exists\".format(dataset_id))\n",
    "    except NotFound:\n",
    "        print(\"Dataset {} is not found\".format(dataset_id))\n",
    "        dataset = client.create_dataset(dataset, timeout=30)  # Make an API request.\n",
    "        print(\"Created dataset {}.{}\".format(client.project, dataset.dataset_id))\n",
    "make_dataset()"
   ]
  },
  {
   "cell_type": "code",
   "execution_count": 56,
   "metadata": {},
   "outputs": [
    {
     "name": "stdout",
     "output_type": "stream",
     "text": [
      "[SchemaField('af', 'STRING', 'REQUIRED', None, None, (), None), SchemaField('sq', 'STRING', 'REQUIRED', None, None, (), None), SchemaField('am', 'STRING', 'REQUIRED', None, None, (), None), SchemaField('ar', 'STRING', 'REQUIRED', None, None, (), None), SchemaField('hy', 'STRING', 'REQUIRED', None, None, (), None), SchemaField('as', 'STRING', 'REQUIRED', None, None, (), None), SchemaField('ay', 'STRING', 'REQUIRED', None, None, (), None), SchemaField('az', 'STRING', 'REQUIRED', None, None, (), None), SchemaField('bm', 'STRING', 'REQUIRED', None, None, (), None), SchemaField('eu', 'STRING', 'REQUIRED', None, None, (), None), SchemaField('be', 'STRING', 'REQUIRED', None, None, (), None), SchemaField('bn', 'STRING', 'REQUIRED', None, None, (), None), SchemaField('bho', 'STRING', 'REQUIRED', None, None, (), None), SchemaField('bs', 'STRING', 'REQUIRED', None, None, (), None), SchemaField('bg', 'STRING', 'REQUIRED', None, None, (), None), SchemaField('ca', 'STRING', 'REQUIRED', None, None, (), None), SchemaField('ceb', 'STRING', 'REQUIRED', None, None, (), None), SchemaField('zh-CN', 'STRING', 'REQUIRED', None, None, (), None), SchemaField('zh-TW', 'STRING', 'REQUIRED', None, None, (), None), SchemaField('co', 'STRING', 'REQUIRED', None, None, (), None), SchemaField('hr', 'STRING', 'REQUIRED', None, None, (), None), SchemaField('cs', 'STRING', 'REQUIRED', None, None, (), None), SchemaField('da', 'STRING', 'REQUIRED', None, None, (), None), SchemaField('dv', 'STRING', 'REQUIRED', None, None, (), None), SchemaField('doi', 'STRING', 'REQUIRED', None, None, (), None), SchemaField('nl', 'STRING', 'REQUIRED', None, None, (), None), SchemaField('en', 'STRING', 'REQUIRED', None, None, (), None), SchemaField('eo', 'STRING', 'REQUIRED', None, None, (), None), SchemaField('et', 'STRING', 'REQUIRED', None, None, (), None), SchemaField('ee', 'STRING', 'REQUIRED', None, None, (), None), SchemaField('fil', 'STRING', 'REQUIRED', None, None, (), None), SchemaField('fi', 'STRING', 'REQUIRED', None, None, (), None), SchemaField('fr', 'STRING', 'REQUIRED', None, None, (), None), SchemaField('fy', 'STRING', 'REQUIRED', None, None, (), None), SchemaField('gl', 'STRING', 'REQUIRED', None, None, (), None), SchemaField('ka', 'STRING', 'REQUIRED', None, None, (), None), SchemaField('de', 'STRING', 'REQUIRED', None, None, (), None), SchemaField('el', 'STRING', 'REQUIRED', None, None, (), None), SchemaField('gn', 'STRING', 'REQUIRED', None, None, (), None), SchemaField('gu', 'STRING', 'REQUIRED', None, None, (), None), SchemaField('ht', 'STRING', 'REQUIRED', None, None, (), None), SchemaField('ha', 'STRING', 'REQUIRED', None, None, (), None), SchemaField('haw', 'STRING', 'REQUIRED', None, None, (), None), SchemaField('iw', 'STRING', 'REQUIRED', None, None, (), None), SchemaField('hi', 'STRING', 'REQUIRED', None, None, (), None), SchemaField('hmn', 'STRING', 'REQUIRED', None, None, (), None), SchemaField('hu', 'STRING', 'REQUIRED', None, None, (), None), SchemaField('is', 'STRING', 'REQUIRED', None, None, (), None), SchemaField('ig', 'STRING', 'REQUIRED', None, None, (), None), SchemaField('ilo', 'STRING', 'REQUIRED', None, None, (), None), SchemaField('id', 'STRING', 'REQUIRED', None, None, (), None), SchemaField('ga', 'STRING', 'REQUIRED', None, None, (), None), SchemaField('it', 'STRING', 'REQUIRED', None, None, (), None), SchemaField('ja', 'STRING', 'REQUIRED', None, None, (), None), SchemaField('jv', 'STRING', 'REQUIRED', None, None, (), None), SchemaField('kn', 'STRING', 'REQUIRED', None, None, (), None), SchemaField('kk', 'STRING', 'REQUIRED', None, None, (), None), SchemaField('km', 'STRING', 'REQUIRED', None, None, (), None), SchemaField('rw', 'STRING', 'REQUIRED', None, None, (), None), SchemaField('gom', 'STRING', 'REQUIRED', None, None, (), None), SchemaField('ko', 'STRING', 'REQUIRED', None, None, (), None), SchemaField('kri', 'STRING', 'REQUIRED', None, None, (), None), SchemaField('ku', 'STRING', 'REQUIRED', None, None, (), None), SchemaField('ckb', 'STRING', 'REQUIRED', None, None, (), None), SchemaField('ky', 'STRING', 'REQUIRED', None, None, (), None), SchemaField('lo', 'STRING', 'REQUIRED', None, None, (), None), SchemaField('la', 'STRING', 'REQUIRED', None, None, (), None), SchemaField('lv', 'STRING', 'REQUIRED', None, None, (), None), SchemaField('ln', 'STRING', 'REQUIRED', None, None, (), None), SchemaField('lt', 'STRING', 'REQUIRED', None, None, (), None), SchemaField('lg', 'STRING', 'REQUIRED', None, None, (), None), SchemaField('lb', 'STRING', 'REQUIRED', None, None, (), None), SchemaField('mk', 'STRING', 'REQUIRED', None, None, (), None), SchemaField('mai', 'STRING', 'REQUIRED', None, None, (), None), SchemaField('mg', 'STRING', 'REQUIRED', None, None, (), None), SchemaField('ms', 'STRING', 'REQUIRED', None, None, (), None), SchemaField('ml', 'STRING', 'REQUIRED', None, None, (), None), SchemaField('mt', 'STRING', 'REQUIRED', None, None, (), None), SchemaField('mi', 'STRING', 'REQUIRED', None, None, (), None), SchemaField('mr', 'STRING', 'REQUIRED', None, None, (), None), SchemaField('mni-Mtei', 'STRING', 'REQUIRED', None, None, (), None), SchemaField('lus', 'STRING', 'REQUIRED', None, None, (), None), SchemaField('mn', 'STRING', 'REQUIRED', None, None, (), None), SchemaField('my', 'STRING', 'REQUIRED', None, None, (), None), SchemaField('ne', 'STRING', 'REQUIRED', None, None, (), None), SchemaField('no', 'STRING', 'REQUIRED', None, None, (), None), SchemaField('ny', 'STRING', 'REQUIRED', None, None, (), None), SchemaField('or', 'STRING', 'REQUIRED', None, None, (), None), SchemaField('om', 'STRING', 'REQUIRED', None, None, (), None), SchemaField('ps', 'STRING', 'REQUIRED', None, None, (), None), SchemaField('fa', 'STRING', 'REQUIRED', None, None, (), None), SchemaField('pl', 'STRING', 'REQUIRED', None, None, (), None), SchemaField('pt', 'STRING', 'REQUIRED', None, None, (), None), SchemaField('pa', 'STRING', 'REQUIRED', None, None, (), None), SchemaField('qu', 'STRING', 'REQUIRED', None, None, (), None), SchemaField('ro', 'STRING', 'REQUIRED', None, None, (), None), SchemaField('ru', 'STRING', 'REQUIRED', None, None, (), None), SchemaField('sm', 'STRING', 'REQUIRED', None, None, (), None), SchemaField('sa', 'STRING', 'REQUIRED', None, None, (), None), SchemaField('gd', 'STRING', 'REQUIRED', None, None, (), None), SchemaField('nso', 'STRING', 'REQUIRED', None, None, (), None), SchemaField('sr', 'STRING', 'REQUIRED', None, None, (), None), SchemaField('st', 'STRING', 'REQUIRED', None, None, (), None), SchemaField('sn', 'STRING', 'REQUIRED', None, None, (), None), SchemaField('sd', 'STRING', 'REQUIRED', None, None, (), None), SchemaField('si', 'STRING', 'REQUIRED', None, None, (), None), SchemaField('sk', 'STRING', 'REQUIRED', None, None, (), None), SchemaField('sl', 'STRING', 'REQUIRED', None, None, (), None), SchemaField('so', 'STRING', 'REQUIRED', None, None, (), None), SchemaField('es', 'STRING', 'REQUIRED', None, None, (), None), SchemaField('su', 'STRING', 'REQUIRED', None, None, (), None), SchemaField('sw', 'STRING', 'REQUIRED', None, None, (), None), SchemaField('sv', 'STRING', 'REQUIRED', None, None, (), None), SchemaField('tl', 'STRING', 'REQUIRED', None, None, (), None), SchemaField('tg', 'STRING', 'REQUIRED', None, None, (), None), SchemaField('ta', 'STRING', 'REQUIRED', None, None, (), None), SchemaField('tt', 'STRING', 'REQUIRED', None, None, (), None), SchemaField('te', 'STRING', 'REQUIRED', None, None, (), None), SchemaField('th', 'STRING', 'REQUIRED', None, None, (), None), SchemaField('ti', 'STRING', 'REQUIRED', None, None, (), None), SchemaField('ts', 'STRING', 'REQUIRED', None, None, (), None), SchemaField('tr', 'STRING', 'REQUIRED', None, None, (), None), SchemaField('tk', 'STRING', 'REQUIRED', None, None, (), None), SchemaField('ak', 'STRING', 'REQUIRED', None, None, (), None), SchemaField('uk', 'STRING', 'REQUIRED', None, None, (), None), SchemaField('ur', 'STRING', 'REQUIRED', None, None, (), None), SchemaField('ug', 'STRING', 'REQUIRED', None, None, (), None), SchemaField('uz', 'STRING', 'REQUIRED', None, None, (), None), SchemaField('vi', 'STRING', 'REQUIRED', None, None, (), None), SchemaField('cy', 'STRING', 'REQUIRED', None, None, (), None), SchemaField('xh', 'STRING', 'REQUIRED', None, None, (), None), SchemaField('yi', 'STRING', 'REQUIRED', None, None, (), None), SchemaField('yo', 'STRING', 'REQUIRED', None, None, (), None), SchemaField('zu', 'STRING', 'REQUIRED', None, None, (), None)]\n",
      "Created table genuine-essence-364222.basic_words.words\n"
     ]
    }
   ],
   "source": [
    "from google.cloud.bigquery.schema import SchemaField\n",
    "\n",
    "def create_words_table():\n",
    "    client = bigquery.Client()\n",
    "\n",
    "    # TODO(dev): Change table_id to the full name of the table you want to create.\n",
    "    table_id = \"genuine-essence-364222.basic_words.words\"\n",
    "\n",
    "    langs = get_list_of_language_ids()\n",
    "    schema = []\n",
    "    for l in langs:\n",
    "        schema.append(bigquery.SchemaField(l,\"STRING\",mode=\"REQUIRED\"))\n",
    "    # schema = [\n",
    "    #     bigquery.SchemaField(\"full_name\", \"STRING\", mode=\"REQUIRED\"),\n",
    "    #     bigquery.SchemaField(\"age\", \"INTEGER\", mode=\"REQUIRED\"),\n",
    "    # ]\n",
    "    print(schema)\n",
    "\n",
    "    client.delete_table(table_id, not_found_ok=True)\n",
    "    table = bigquery.Table(table_id, schema=schema)\n",
    "    table = client.create_table(table)  # Make an API request.\n",
    "    print(\n",
    "        \"Created table {}.{}.{}\".format(table.project, table.dataset_id, table.table_id)\n",
    "    )\n",
    "\n",
    "# create_words_table()"
   ]
  }
 ],
 "metadata": {
  "kernelspec": {
   "display_name": "Python 3",
   "language": "python",
   "name": "python3"
  },
  "language_info": {
   "codemirror_mode": {
    "name": "ipython",
    "version": 3
   },
   "file_extension": ".py",
   "mimetype": "text/x-python",
   "name": "python",
   "nbconvert_exporter": "python",
   "pygments_lexer": "ipython3",
   "version": "3.10.6"
  },
  "orig_nbformat": 4,
  "vscode": {
   "interpreter": {
    "hash": "31f2aee4e71d21fbe5cf8b01ff0e069b9275f58929596ceb00d14d90e3e16cd6"
   }
  }
 },
 "nbformat": 4,
 "nbformat_minor": 2
}
